{
 "cells": [
  {
   "cell_type": "code",
   "execution_count": null,
   "metadata": {},
   "outputs": [],
   "source": [
    "import scoring_functions as fn"
   ]
  },
  {
   "cell_type": "markdown",
   "metadata": {},
   "source": [
    "#### Operation ID @ SLM prompt\n",
    "\n",
    "How well different models generate an operation ID for use in an OpenAPI spec, given an API request"
   ]
  },
  {
   "cell_type": "code",
   "execution_count": 1,
   "metadata": {},
   "outputs": [
    {
     "ename": "NameError",
     "evalue": "name 'fn' is not defined",
     "output_type": "error",
     "traceback": [
      "\u001b[0;31m---------------------------------------------------------------------------\u001b[0m",
      "\u001b[0;31mNameError\u001b[0m                                 Traceback (most recent call last)",
      "Cell \u001b[0;32mIn[1], line 66\u001b[0m\n\u001b[1;32m     19\u001b[0m tasks \u001b[38;5;241m=\u001b[39m [\n\u001b[1;32m     20\u001b[0m     {\n\u001b[1;32m     21\u001b[0m         \u001b[38;5;124m\"\u001b[39m\u001b[38;5;124mname\u001b[39m\u001b[38;5;124m\"\u001b[39m: \u001b[38;5;124m\"\u001b[39m\u001b[38;5;124mgetCalendarsForUser\u001b[39m\u001b[38;5;124m\"\u001b[39m,\n\u001b[0;32m   (...)\u001b[0m\n\u001b[1;32m     60\u001b[0m     }\n\u001b[1;32m     61\u001b[0m ]\n\u001b[1;32m     62\u001b[0m score_threshold \u001b[38;5;241m=\u001b[39m \u001b[38;5;241m0.8\u001b[39m\n\u001b[1;32m     63\u001b[0m metric_scorers \u001b[38;5;241m=\u001b[39m [\n\u001b[1;32m     64\u001b[0m     {\n\u001b[1;32m     65\u001b[0m         \u001b[38;5;124m'\u001b[39m\u001b[38;5;124mname\u001b[39m\u001b[38;5;124m'\u001b[39m: \u001b[38;5;124m'\u001b[39m\u001b[38;5;124mBERT-F\u001b[39m\u001b[38;5;124m'\u001b[39m,\n\u001b[0;32m---> 66\u001b[0m         \u001b[38;5;124m'\u001b[39m\u001b[38;5;124mfn\u001b[39m\u001b[38;5;124m'\u001b[39m: \u001b[43mfn\u001b[49m\u001b[38;5;241m.\u001b[39mcalculate_bert_f,\n\u001b[1;32m     67\u001b[0m         \u001b[38;5;124m'\u001b[39m\u001b[38;5;124mweight\u001b[39m\u001b[38;5;124m'\u001b[39m: \u001b[38;5;241m0.45\u001b[39m\n\u001b[1;32m     68\u001b[0m     },\n\u001b[1;32m     69\u001b[0m     {\n\u001b[1;32m     70\u001b[0m         \u001b[38;5;124m'\u001b[39m\u001b[38;5;124mname\u001b[39m\u001b[38;5;124m'\u001b[39m: \u001b[38;5;124m'\u001b[39m\u001b[38;5;124mEdit distance\u001b[39m\u001b[38;5;124m'\u001b[39m,\n\u001b[1;32m     71\u001b[0m         \u001b[38;5;124m'\u001b[39m\u001b[38;5;124mfn\u001b[39m\u001b[38;5;124m'\u001b[39m: fn\u001b[38;5;241m.\u001b[39mcalculate_edit_distance,\n\u001b[1;32m     72\u001b[0m         \u001b[38;5;124m'\u001b[39m\u001b[38;5;124mweight\u001b[39m\u001b[38;5;124m'\u001b[39m: \u001b[38;5;241m0.1\u001b[39m\n\u001b[1;32m     73\u001b[0m     },\n\u001b[1;32m     74\u001b[0m     {\n\u001b[1;32m     75\u001b[0m         \u001b[38;5;124m'\u001b[39m\u001b[38;5;124mname\u001b[39m\u001b[38;5;124m'\u001b[39m: \u001b[38;5;124m'\u001b[39m\u001b[38;5;124mROUGE-1\u001b[39m\u001b[38;5;124m'\u001b[39m,\n\u001b[1;32m     76\u001b[0m         \u001b[38;5;124m'\u001b[39m\u001b[38;5;124mfn\u001b[39m\u001b[38;5;124m'\u001b[39m: fn\u001b[38;5;241m.\u001b[39mcalculate_rouge1,\n\u001b[1;32m     77\u001b[0m         \u001b[38;5;124m'\u001b[39m\u001b[38;5;124mweight\u001b[39m\u001b[38;5;124m'\u001b[39m: \u001b[38;5;241m0.25\u001b[39m\n\u001b[1;32m     78\u001b[0m     },\n\u001b[1;32m     79\u001b[0m     {\n\u001b[1;32m     80\u001b[0m         \u001b[38;5;124m'\u001b[39m\u001b[38;5;124mname\u001b[39m\u001b[38;5;124m'\u001b[39m: \u001b[38;5;124m'\u001b[39m\u001b[38;5;124mROUGE-L\u001b[39m\u001b[38;5;124m'\u001b[39m,\n\u001b[1;32m     81\u001b[0m         \u001b[38;5;124m'\u001b[39m\u001b[38;5;124mfn\u001b[39m\u001b[38;5;124m'\u001b[39m: fn\u001b[38;5;241m.\u001b[39mcalculate_rougeL,\n\u001b[1;32m     82\u001b[0m         \u001b[38;5;124m'\u001b[39m\u001b[38;5;124mweight\u001b[39m\u001b[38;5;124m'\u001b[39m: \u001b[38;5;241m0.2\u001b[39m\n\u001b[1;32m     83\u001b[0m     }\n\u001b[1;32m     84\u001b[0m ]\n",
      "\u001b[0;31mNameError\u001b[0m: name 'fn' is not defined"
     ]
    }
   ],
   "source": [
    "scenario = \"Generate OpenAPI operation ID using SLM prompt\"\n",
    "split_response = True\n",
    "prompt_template = \"\"\"\n",
    "    **Prompt:**\n",
    "    Generate an operation ID for an OpenAPI specification based on the HTTP method and URL provided. Follow these rules:\n",
    "    - The operation ID should be in camelCase format.\n",
    "    - Start with a verb that matches the HTTP method (e.g., `get`, `create`, `update`, `delete`).\n",
    "    - Use descriptive words from the URL path.\n",
    "    - Replace path parameters (e.g., `{{userId}}`) with relevant nouns in singular form (e.g., `User`).\n",
    "    - Do not provide explanations or any other text; respond only with the operation ID.\n",
    "\n",
    "    Example:  \n",
    "    **Request:** `GET https://api.contoso.com/books/{{books-id}}/authors`\n",
    "    getBookAuthors\n",
    "\n",
    "    Now, generate the operation ID for the following:\n",
    "    **Request:** `{request}`\n",
    "    \"\"\".strip()\n",
    "tasks = [\n",
    "    {\n",
    "        \"name\": \"getCalendarsForUser\",\n",
    "        \"reference_texts\": [\n",
    "            \"getCalendarsForUser\",\n",
    "            \"listUserCalendars\",\n",
    "            \"getUserCalendars\",\n",
    "            \"fetchUserCalendars\",\n",
    "            \"listCalendarsForUser\"\n",
    "        ],\n",
    "        \"prompt\": prompt_template.format(request=\"GET https://graph.microsoft.com/users/{{users-id}}/calendars\")\n",
    "    },\n",
    "    {\n",
    "        \"name\": \"getUser\",\n",
    "        \"reference_texts\": [\n",
    "            \"getUser\",\n",
    "            \"fetchUser\",\n",
    "            \"retrieveUser\"\n",
    "        ],\n",
    "        \"prompt\": prompt_template.format(request=\"GET https://graph.microsoft.com/users/{{users-id}}\")\n",
    "    },\n",
    "    {\n",
    "        \"name\": \"getCalendarForUser\",\n",
    "        \"reference_texts\": [\n",
    "            \"getCalendarForUser\",\n",
    "            \"fetchUserCalendar\",\n",
    "            \"getUserCalendar\"\n",
    "        ],\n",
    "        \"prompt\": prompt_template.format(request=\"GET https://graph.microsoft.com/users/{{users-id}}/calendars/{{calendars-id}}\")\n",
    "    },\n",
    "    {\n",
    "        \"name\": \"postCalendarForUser\",\n",
    "        \"reference_texts\": [\n",
    "            \"postCalendarForUser\"\n",
    "            \"createUserCalendar\",\n",
    "            \"createCalendarForUser\",\n",
    "            \"addUserCalendar\",\n",
    "            \"postUserCalendar\",\n",
    "            \"addCalendarForUser\"\n",
    "        ],\n",
    "        \"prompt\": prompt_template.format(request=\"POST https://graph.microsoft.com/users/{{users-id}}/calendars\")\n",
    "    }\n",
    "]\n",
    "score_threshold = 0.8\n",
    "metric_scorers = [\n",
    "    {\n",
    "        'name': 'BERT-F',\n",
    "        'fn': fn.calculate_bert_f,\n",
    "        'weight': 0.45\n",
    "    },\n",
    "    {\n",
    "        'name': 'Edit distance',\n",
    "        'fn': fn.calculate_edit_distance,\n",
    "        'weight': 0.1\n",
    "    },\n",
    "    {\n",
    "        'name': 'ROUGE-1',\n",
    "        'fn': fn.calculate_rouge1,\n",
    "        'weight': 0.25\n",
    "    },\n",
    "    {\n",
    "        'name': 'ROUGE-L',\n",
    "        'fn': fn.calculate_rougeL,\n",
    "        'weight': 0.2\n",
    "    }\n",
    "]"
   ]
  }
 ],
 "metadata": {
  "kernelspec": {
   "display_name": ".venv",
   "language": "python",
   "name": "python3"
  },
  "language_info": {
   "codemirror_mode": {
    "name": "ipython",
    "version": 3
   },
   "file_extension": ".py",
   "mimetype": "text/x-python",
   "name": "python",
   "nbconvert_exporter": "python",
   "pygments_lexer": "ipython3",
   "version": "3.12.8"
  }
 },
 "nbformat": 4,
 "nbformat_minor": 2
}
